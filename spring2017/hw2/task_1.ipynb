{
 "cells": [
  {
   "cell_type": "markdown",
   "metadata": {
    "deletable": true,
    "editable": true
   },
   "source": [
    "# 1"
   ]
  },
  {
   "cell_type": "markdown",
   "metadata": {
    "deletable": true,
    "editable": true
   },
   "source": [
    "### Ответы в листьях регрессионного дерева.\n",
    "\n",
    "Ответы в листьях регрессионного дерева получатся лучше, если брать среднее по значениям в листе. Это проверяется подсчётом матожидания ошибки в обоих случаях.\n",
    "\n",
    "<img src='https://wikimedia.org/api/rest_v1/media/math/render/svg/67b9ac7353c6a2710e35180238efe54faf4d9c15'>\n",
    "\n",
    "Оценки матожиданий и их сравнение:\n",
    "<img src='https://lh3.googleusercontent.com/pAVyj1qM_fhn92n68G1lq4Ci6vHw24MxX0Yh-GWTjkCMjVk-y598K1GT0iowrZn6EZ6StZyPTUackYRqQYR4GjDJB0BjLmUibRM3'>"
   ]
  },
  {
   "cell_type": "markdown",
   "metadata": {
    "deletable": true,
    "editable": true
   },
   "source": [
    "# 2"
   ]
  },
  {
   "cell_type": "markdown",
   "metadata": {
    "deletable": true,
    "editable": true
   },
   "source": [
    "### Линейные модели в деревьях\n",
    "\n",
    "Объекты в листе слишком похожи, а на похожих объектах линейная регрессия работает не очень хорошо. Взять для примера примерно одиаковые точки - то ответ будет примерно в диапазоне матожидания. Это ничем не лучше чем выдавать среднее.\n",
    "Типа прямая, проведенная через примерно одинаковые точки - будет примерно матожиданием этих точек.\n",
    "\n",
    "Как стоит модифицировать построение разибений в дереве по MSE, чтобы получались множества, на которых линейные модели должны работать неплохо?\n",
    "\n",
    "Ну нужно сделать как-то так, чтобы в листьях был разброс по У-кам побольше, чтобы линейная модель сработала получше. Можно выбрать критерий, выбирающий наилучшее разбиение таким, чтобы он учитывал близость по Х и одновременно дальность по y - чтобы У-ки в вершинах различались сильнее.\n",
    "\n",
    "Еще как вариант можно построить решающее дерево только по X - без У-ков (Unsupervised decision tree). В листьях будут близкие по х-су значения, но не обязательно близкие по У-ку. Тогда в листьях линейная модель будет работать уже лучше."
   ]
  },
  {
   "cell_type": "markdown",
   "metadata": {
    "deletable": true,
    "editable": true
   },
   "source": [
    "# 3"
   ]
  },
  {
   "cell_type": "markdown",
   "metadata": {
    "deletable": true,
    "editable": true
   },
   "source": [
    "#### Unsupervised decision tree\n",
    "\n",
    "<img src=https://wikimedia.org/api/rest_v1/media/math/render/svg/998e3b2c741d0aad68cdf141e1e5892bb0a24a41>\n",
    "\n",
    "Вообще лезем в википедию и находим:\n",
    "<img src='https://lh3.googleusercontent.com/r9AY8Y2jbGWFYhfpPEARKxJ1AbIX63ks759tzLxbu26eYeVi0BWREgrVCsu8_-PMO3gcPUIRSyg9HBP2HxKX4azdmri_JMWRNjs'>\n"
   ]
  },
  {
   "cell_type": "markdown",
   "metadata": {
    "deletable": true,
    "editable": true
   },
   "source": [
    "<img src='https://lh3.googleusercontent.com/nNaulF8kt6p1O7Z97bKiAOcnAaFy5zpwozCVefbe08YVWqgVyK7C1RSAv9BW7nW3uKAjFnVXJHLyHRUewvkyDY1NC92HuGc0ia4'>"
   ]
  },
  {
   "cell_type": "markdown",
   "metadata": {
    "deletable": true,
    "editable": true
   },
   "source": [
    "Убедились :)"
   ]
  },
  {
   "cell_type": "code",
   "execution_count": null,
   "metadata": {
    "collapsed": true,
    "deletable": true,
    "editable": true
   },
   "outputs": [],
   "source": []
  }
 ],
 "metadata": {
  "kernelspec": {
   "display_name": "Python 2",
   "language": "python",
   "name": "python2"
  },
  "language_info": {
   "codemirror_mode": {
    "name": "ipython",
    "version": 2
   },
   "file_extension": ".py",
   "mimetype": "text/x-python",
   "name": "python",
   "nbconvert_exporter": "python",
   "pygments_lexer": "ipython2",
   "version": "2.7.13"
  }
 },
 "nbformat": 4,
 "nbformat_minor": 2
}
